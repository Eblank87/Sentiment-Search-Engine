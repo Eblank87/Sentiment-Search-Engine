{
 "cells": [
  {
   "cell_type": "code",
   "execution_count": 8,
   "metadata": {},
   "outputs": [],
   "source": [
    "#SentimentSearchEngine\n",
    "\n",
    "# Dependencies\n",
    "import tweepy\n",
    "import numpy as np\n",
    "import pandas as pd\n",
    "import matplotlib.pyplot as plt\n",
    "from datetime import datetime\n",
    "#from config import consumer_key, consumer_secret, access_token, access_token_secret\n",
    "\n",
    "# Twitter API Keys\n",
    "consumer_key = \"j6UMJ9RL1s6IzP9bMuDF7aqs2\"\n",
    "consumer_secret = \"A3oP0clXf60RzFHu9SkDtzzWRKr35sxZpKhP5RgM0CbAkwlXPa\"\n",
    "access_token = \"979169660833710080-WiJS6293MQ0ejXeWjNaawSofVNskv53\"\n",
    "access_token_secret = \"NIs5dvQRRXSLizsRrx4j6ATJX1JISdPudkXxYqBlpZ2dC\"\n",
    "\n",
    "# Setup Tweepy API Authentication\n",
    "auth = tweepy.OAuthHandler(consumer_key, consumer_secret)\n",
    "auth.set_access_token(access_token, access_token_secret)\n",
    "api = tweepy.API(auth, parser=tweepy.parsers.JSONParser())\n",
    "\n",
    "from vaderSentiment.vaderSentiment import SentimentIntensityAnalyzer\n",
    "analyzer = SentimentIntensityAnalyzer()\n"
   ]
  },
  {
   "cell_type": "code",
   "execution_count": 16,
   "metadata": {},
   "outputs": [],
   "source": [
    "#make a function to call Twitter every 15 mins\n",
    "\n",
    "def TweetSent():\n",
    "    \n",
    "    target_user = \"@NRA\"\n",
    "    #search_term = \"marchforourlives\"\n",
    "    \n",
    "    #create a list to hold compound sentiments\n",
    "    compound_sentiments = []\n",
    "\n",
    "\n",
    "    # Create variable for holding the oldest tweet\n",
    "    oldest_tweet = None\n",
    "\n",
    "    # List to hold unique IDs\n",
    "    unique_ids = []\n",
    "\n",
    "    # Counter to keep track of the number of tweets retrieved\n",
    "    counter = 0\n",
    "    \n",
    "    # Loop through 5 pages of tweets (total 100 tweets)\n",
    "    for x in range(5):\n",
    "\n",
    "        # Get all tweets from target user\n",
    "        public_tweets = api.user_timeline(target_user, \n",
    "                               count=100, \n",
    "                               result_type=\"recent\", \n",
    "                               max_id=oldest_tweet)\n",
    "\n",
    "        # Loop through all tweets\n",
    "        for tweet in public_tweets:\n",
    "\n",
    "            # Run Vader Analysis on each tweet\n",
    "            target_sample = tweet[\"text\"]\n",
    "            \n",
    "            results = analyzer.polarity_scores(target_sample)\n",
    "\n",
    "\n",
    "            # Run analysis\n",
    "            compound = results[\"compound\"]\n",
    "            pos = results[\"pos\"]\n",
    "            neu = results[\"neu\"]\n",
    "            neg = results[\"neg\"]\n",
    "            #tweets_ago = counter\n",
    "\n",
    "            # Print Analysis\n",
    "            #print(target_sample)\n",
    "            #print(\"Compound Score:\", compound)\n",
    "            #print(\"Positive Score:\", pos)\n",
    "            #print(\"Neutral Score:\", neu)\n",
    "            #print(\"Negative Score: \", neg)\n",
    "\n",
    "            # Add each value to the appropriate list\n",
    "            compound_sentiments.append(compound)\n",
    "            #tweets_ago.append(counter)\n",
    "            \n",
    "            # Append tweet_id to ids list if it doesn't already exist\n",
    "            # This allows checking for duplicate tweets\n",
    "            tweet_id = tweet[\"id\"]\n",
    "\n",
    "            if tweet_id not in unique_ids:\n",
    "                unique_ids.append(tweet_id)\n",
    "\n",
    "            # Reassign the the oldest tweet (i.e. the max_id)\n",
    "            # Subtract 1 so the previous oldest isn't included\n",
    "            # in the new search\n",
    "\n",
    "            oldest_tweet = tweet_id - 1\n",
    "\n",
    "            # Increase counter by 1\n",
    "            counter += 1\n",
    "    \n",
    "    # Print the Averages\n",
    "    print(f\"User: {target_user}\")\n",
    "    print(f\"Compound: {np.mean(compound_sentiments):.3f}\")\n",
    "            "
   ]
  },
  {
   "cell_type": "code",
   "execution_count": 17,
   "metadata": {},
   "outputs": [
    {
     "name": "stdout",
     "output_type": "stream",
     "text": [
      "User: @NRA\n",
      "Compound: 0.037\n"
     ]
    }
   ],
   "source": [
    "TweetSent()"
   ]
  },
  {
   "cell_type": "code",
   "execution_count": null,
   "metadata": {
    "collapsed": true
   },
   "outputs": [],
   "source": [
    "# Create a loop that calls the TweetSent function every 15 minutes\n",
    "counter = 0\n",
    "\n",
    "# do it 10xs/stop at 1000 tweets\n",
    "while counter < 10:\n",
    "\n",
    "    # Call the TweetQuotes function and specify the tweet number\n",
    "    TweetSent(counter)\n",
    "\n",
    "    # Once tweeted, wait 15 mins/900 seconds before doing anything else\n",
    "    time.sleep(900)\n",
    "\n",
    "    # Add 1 to the counter prior to re-running the loop\n",
    "    counter = counter + 1"
   ]
  },
  {
   "cell_type": "code",
   "execution_count": null,
   "metadata": {
    "collapsed": true
   },
   "outputs": [],
   "source": [
    "\n",
    "\n",
    "\n",
    "\n",
    "\n",
    "statuses, user, geo_enabled: true, \n",
    "we want statuses, user, coordinates"
   ]
  }
 ],
 "metadata": {
  "kernelspec": {
   "display_name": "Python 3",
   "language": "python",
   "name": "python3"
  },
  "language_info": {
   "codemirror_mode": {
    "name": "ipython",
    "version": 3
   },
   "file_extension": ".py",
   "mimetype": "text/x-python",
   "name": "python",
   "nbconvert_exporter": "python",
   "pygments_lexer": "ipython3",
   "version": "3.6.3"
  }
 },
 "nbformat": 4,
 "nbformat_minor": 2
}
