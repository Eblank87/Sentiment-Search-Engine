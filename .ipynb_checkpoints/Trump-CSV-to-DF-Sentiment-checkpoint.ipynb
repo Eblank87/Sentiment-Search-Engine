{
 "cells": [
  {
   "cell_type": "code",
   "execution_count": 1,
   "metadata": {},
   "outputs": [],
   "source": [
    "# Dependencies\n",
    "import pandas as pd\n",
    "import numpy as np\n"
   ]
  },
  {
   "cell_type": "code",
   "execution_count": 2,
   "metadata": {},
   "outputs": [],
   "source": [
    "# Store filepath in a variable\n",
    "trump_csv = \"output/Trumpholdallthetweets.csv\"\n",
    "\n",
    "# Read our Data file with the pandas library\n",
    "trump_df = pd.read_csv(trump_csv, encoding = \"utf-8\", header=None)\n",
    "trump_df.columns = (\"Longitude\", \"Latitude\", \"Tweet Text\", \"City-State\", \"Long-Lat-Both\")\n"
   ]
  },
  {
   "cell_type": "code",
   "execution_count": 3,
   "metadata": {
    "scrolled": true
   },
   "outputs": [
    {
     "data": {
      "text/html": [
       "<div>\n",
       "<style scoped>\n",
       "    .dataframe tbody tr th:only-of-type {\n",
       "        vertical-align: middle;\n",
       "    }\n",
       "\n",
       "    .dataframe tbody tr th {\n",
       "        vertical-align: top;\n",
       "    }\n",
       "\n",
       "    .dataframe thead th {\n",
       "        text-align: right;\n",
       "    }\n",
       "</style>\n",
       "<table border=\"1\" class=\"dataframe\">\n",
       "  <thead>\n",
       "    <tr style=\"text-align: right;\">\n",
       "      <th></th>\n",
       "      <th>Longitude</th>\n",
       "      <th>Latitude</th>\n",
       "      <th>Tweet Text</th>\n",
       "      <th>City-State</th>\n",
       "      <th>Long-Lat-Both</th>\n",
       "    </tr>\n",
       "  </thead>\n",
       "  <tbody>\n",
       "    <tr>\n",
       "      <th>0</th>\n",
       "      <td>-84.580124</td>\n",
       "      <td>39.026611</td>\n",
       "      <td>Just a reminder that @AlanDersh is not a Democ...</td>\n",
       "      <td>Fort Mitchell, KY</td>\n",
       "      <td>[-84.580124, 39.026611]</td>\n",
       "    </tr>\n",
       "    <tr>\n",
       "      <th>1</th>\n",
       "      <td>-88.473228</td>\n",
       "      <td>30.144425</td>\n",
       "      <td>@richieny70 @StateDept @realDonaldTrump @POTUS...</td>\n",
       "      <td>Alabama, USA</td>\n",
       "      <td>[-88.473228, 30.144425]</td>\n",
       "    </tr>\n",
       "    <tr>\n",
       "      <th>2</th>\n",
       "      <td>-118.668404</td>\n",
       "      <td>33.704538</td>\n",
       "      <td>Democrats set a trap for #Trump trying to unle...</td>\n",
       "      <td>Los Angeles, CA</td>\n",
       "      <td>[-118.668404, 33.704538]</td>\n",
       "    </tr>\n",
       "    <tr>\n",
       "      <th>3</th>\n",
       "      <td>-118.448451</td>\n",
       "      <td>33.976882</td>\n",
       "      <td>@MarvinEAdams @politico It's not the vast majo...</td>\n",
       "      <td>Culver City, CA</td>\n",
       "      <td>[-118.4484512, 33.976882]</td>\n",
       "    </tr>\n",
       "    <tr>\n",
       "      <th>4</th>\n",
       "      <td>-117.296536</td>\n",
       "      <td>33.858759</td>\n",
       "      <td>It�s obvious that Steve Cortez considers himse...</td>\n",
       "      <td>Moreno Valley, CA</td>\n",
       "      <td>[-117.296536, 33.858759]</td>\n",
       "    </tr>\n",
       "  </tbody>\n",
       "</table>\n",
       "</div>"
      ],
      "text/plain": [
       "    Longitude   Latitude                                         Tweet Text  \\\n",
       "0  -84.580124  39.026611  Just a reminder that @AlanDersh is not a Democ...   \n",
       "1  -88.473228  30.144425  @richieny70 @StateDept @realDonaldTrump @POTUS...   \n",
       "2 -118.668404  33.704538  Democrats set a trap for #Trump trying to unle...   \n",
       "3 -118.448451  33.976882  @MarvinEAdams @politico It's not the vast majo...   \n",
       "4 -117.296536  33.858759  It�s obvious that Steve Cortez considers himse...   \n",
       "\n",
       "          City-State              Long-Lat-Both  \n",
       "0  Fort Mitchell, KY    [-84.580124, 39.026611]  \n",
       "1       Alabama, USA    [-88.473228, 30.144425]  \n",
       "2    Los Angeles, CA   [-118.668404, 33.704538]  \n",
       "3    Culver City, CA  [-118.4484512, 33.976882]  \n",
       "4  Moreno Valley, CA   [-117.296536, 33.858759]  "
      ]
     },
     "execution_count": 3,
     "metadata": {},
     "output_type": "execute_result"
    }
   ],
   "source": [
    "# Show just the header \n",
    "trump_df.head()"
   ]
  },
  {
   "cell_type": "code",
   "execution_count": 4,
   "metadata": {},
   "outputs": [],
   "source": [
    "# set up additional columns to hold information\n",
    "# trump_df['Compound'] = \"\"\n",
    "# trump_df['Positive'] = \"\"\n",
    "# trump_df['Neutral'] = \"\"\n",
    "# trump_df['Negative'] = \"\"\n",
    "\n",
    "# trump_df.head()"
   ]
  },
  {
   "cell_type": "code",
   "execution_count": 5,
   "metadata": {},
   "outputs": [],
   "source": [
    "# Import and Initialize Sentiment Analyzer\n",
    "from vaderSentiment.vaderSentiment import SentimentIntensityAnalyzer\n",
    "analyzer = SentimentIntensityAnalyzer()\n",
    "\n",
    "compound_list = []\n",
    "\n",
    "for index, row in trump_df.iterrows():\n",
    "    \n",
    "    target_text = row[\"Tweet Text\"]\n",
    "    \n",
    "    # Run analysis\n",
    "    results = analyzer.polarity_scores(target_text)\n",
    "    results\n",
    "\n",
    "    # Run analysis\n",
    "    compound = results[\"compound\"]\n",
    "    pos = results[\"pos\"]\n",
    "    neu = results[\"neu\"]\n",
    "    neg = results[\"neg\"]\n",
    "    \n",
    "    compound_list.append(compound)\n",
    "    \n",
    "#print(compound)\n",
    "#print(pos)\n"
   ]
  },
  {
   "cell_type": "code",
   "execution_count": 6,
   "metadata": {},
   "outputs": [],
   "source": [
    "trump_df[\"Compound_Sentiment\"] = compound_list\n",
    "         "
   ]
  },
  {
   "cell_type": "code",
   "execution_count": 7,
   "metadata": {},
   "outputs": [
    {
     "data": {
      "text/html": [
       "<div>\n",
       "<style scoped>\n",
       "    .dataframe tbody tr th:only-of-type {\n",
       "        vertical-align: middle;\n",
       "    }\n",
       "\n",
       "    .dataframe tbody tr th {\n",
       "        vertical-align: top;\n",
       "    }\n",
       "\n",
       "    .dataframe thead th {\n",
       "        text-align: right;\n",
       "    }\n",
       "</style>\n",
       "<table border=\"1\" class=\"dataframe\">\n",
       "  <thead>\n",
       "    <tr style=\"text-align: right;\">\n",
       "      <th></th>\n",
       "      <th>Longitude</th>\n",
       "      <th>Latitude</th>\n",
       "      <th>Tweet Text</th>\n",
       "      <th>City-State</th>\n",
       "      <th>Long-Lat-Both</th>\n",
       "      <th>Compound_Sentiment</th>\n",
       "    </tr>\n",
       "  </thead>\n",
       "  <tbody>\n",
       "    <tr>\n",
       "      <th>0</th>\n",
       "      <td>-84.580124</td>\n",
       "      <td>39.026611</td>\n",
       "      <td>Just a reminder that @AlanDersh is not a Democ...</td>\n",
       "      <td>Fort Mitchell, KY</td>\n",
       "      <td>[-84.580124, 39.026611]</td>\n",
       "      <td>0.1695</td>\n",
       "    </tr>\n",
       "    <tr>\n",
       "      <th>1</th>\n",
       "      <td>-88.473228</td>\n",
       "      <td>30.144425</td>\n",
       "      <td>@richieny70 @StateDept @realDonaldTrump @POTUS...</td>\n",
       "      <td>Alabama, USA</td>\n",
       "      <td>[-88.473228, 30.144425]</td>\n",
       "      <td>-0.4003</td>\n",
       "    </tr>\n",
       "    <tr>\n",
       "      <th>2</th>\n",
       "      <td>-118.668404</td>\n",
       "      <td>33.704538</td>\n",
       "      <td>Democrats set a trap for #Trump trying to unle...</td>\n",
       "      <td>Los Angeles, CA</td>\n",
       "      <td>[-118.668404, 33.704538]</td>\n",
       "      <td>-0.5106</td>\n",
       "    </tr>\n",
       "    <tr>\n",
       "      <th>3</th>\n",
       "      <td>-118.448451</td>\n",
       "      <td>33.976882</td>\n",
       "      <td>@MarvinEAdams @politico It's not the vast majo...</td>\n",
       "      <td>Culver City, CA</td>\n",
       "      <td>[-118.4484512, 33.976882]</td>\n",
       "      <td>0.0000</td>\n",
       "    </tr>\n",
       "    <tr>\n",
       "      <th>4</th>\n",
       "      <td>-117.296536</td>\n",
       "      <td>33.858759</td>\n",
       "      <td>It�s obvious that Steve Cortez considers himse...</td>\n",
       "      <td>Moreno Valley, CA</td>\n",
       "      <td>[-117.296536, 33.858759]</td>\n",
       "      <td>0.0000</td>\n",
       "    </tr>\n",
       "  </tbody>\n",
       "</table>\n",
       "</div>"
      ],
      "text/plain": [
       "    Longitude   Latitude                                         Tweet Text  \\\n",
       "0  -84.580124  39.026611  Just a reminder that @AlanDersh is not a Democ...   \n",
       "1  -88.473228  30.144425  @richieny70 @StateDept @realDonaldTrump @POTUS...   \n",
       "2 -118.668404  33.704538  Democrats set a trap for #Trump trying to unle...   \n",
       "3 -118.448451  33.976882  @MarvinEAdams @politico It's not the vast majo...   \n",
       "4 -117.296536  33.858759  It�s obvious that Steve Cortez considers himse...   \n",
       "\n",
       "          City-State              Long-Lat-Both  Compound_Sentiment  \n",
       "0  Fort Mitchell, KY    [-84.580124, 39.026611]              0.1695  \n",
       "1       Alabama, USA    [-88.473228, 30.144425]             -0.4003  \n",
       "2    Los Angeles, CA   [-118.668404, 33.704538]             -0.5106  \n",
       "3    Culver City, CA  [-118.4484512, 33.976882]              0.0000  \n",
       "4  Moreno Valley, CA   [-117.296536, 33.858759]              0.0000  "
      ]
     },
     "execution_count": 7,
     "metadata": {},
     "output_type": "execute_result"
    }
   ],
   "source": [
    "trump_df.head(5)"
   ]
  },
  {
   "cell_type": "code",
   "execution_count": null,
   "metadata": {},
   "outputs": [],
   "source": []
  }
 ],
 "metadata": {
  "kernelspec": {
   "display_name": "Python 3",
   "language": "python",
   "name": "python3"
  },
  "language_info": {
   "codemirror_mode": {
    "name": "ipython",
    "version": 3
   },
   "file_extension": ".py",
   "mimetype": "text/x-python",
   "name": "python",
   "nbconvert_exporter": "python",
   "pygments_lexer": "ipython3",
   "version": "3.6.4"
  }
 },
 "nbformat": 4,
 "nbformat_minor": 2
}
